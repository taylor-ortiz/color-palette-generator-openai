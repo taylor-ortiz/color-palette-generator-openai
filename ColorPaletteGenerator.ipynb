{
 "cells": [
  {
   "cell_type": "code",
   "execution_count": null,
   "id": "af0fd333-5bb6-452f-8f65-a4ac2d68fa48",
   "metadata": {},
   "outputs": [],
   "source": [
    "import openai"
   ]
  },
  {
   "cell_type": "code",
   "execution_count": 54,
   "id": "d8632b5f-d235-4609-bf2d-7aeb2b74c1c1",
   "metadata": {},
   "outputs": [],
   "source": [
    "import json"
   ]
  },
  {
   "cell_type": "code",
   "execution_count": 2,
   "id": "9c440ce4-30de-4a8a-a584-eb3b4ce73303",
   "metadata": {},
   "outputs": [],
   "source": [
    "from dotenv import dotenv_values"
   ]
  },
  {
   "cell_type": "code",
   "execution_count": 3,
   "id": "530649e2-a737-455c-99b1-b51b80d56949",
   "metadata": {},
   "outputs": [],
   "source": [
    "config = dotenv_values(\"../.env\")"
   ]
  },
  {
   "cell_type": "code",
   "execution_count": 5,
   "id": "cfcc08fd-400b-4eb4-a9f8-75fca35f901b",
   "metadata": {},
   "outputs": [],
   "source": [
    "openai.api_key = config[\"OPENAI_API_KEY\"]"
   ]
  },
  {
   "cell_type": "code",
   "execution_count": 65,
   "id": "1be69e42-58d6-4183-aa7d-7ad23e73f9bd",
   "metadata": {},
   "outputs": [],
   "source": [
    "def get_and_render_colors(msg):\n",
    "    prompt = f\"\"\"\n",
    "    you are a color palette generating assistant that responds to text prompts for color palettes\n",
    "    you should generate color palettes that fit the theme, mood, or instructions in the prompt. the palettes should be between 2 and 8 colors.\n",
    "    \n",
    "    Q: Convert the following verbal description of a color palette into a list of colors: The Mediterranean Sea\n",
    "    A: [\"#006699\", \"#66CCCC\", \"#F0E68C\", \"#008000\", \"#F08080\"]\n",
    "    \n",
    "    Q: Convert the following verbal description of a color palette into a list of colors: A beautiful sunset\n",
    "    A: [\"#F08080\", \"#FFA500\", \"#fcede0\", \"#f7bb5f\", \"#ec6607\"]\n",
    "    \n",
    "    Desired format: a JSON array of hexadecimal color codes without Answer or A in the beginning\n",
    "    Q: Convert the following verbal description of a color palette into a list of colors: {msg}\n",
    "    A:\n",
    "    \"\"\"\n",
    "\n",
    "    response = openai.Completion.create(\n",
    "        prompt=prompt,\n",
    "        model=\"text-davinci-003\",\n",
    "        max_tokens=200\n",
    "    )\n",
    "    colors = response[\"choices\"][0][\"text\"]\n",
    "    colors = json.loads(colors)\n",
    "    display_colors(colors)"
   ]
  },
  {
   "cell_type": "code",
   "execution_count": 66,
   "id": "e04e3ce4-e19e-4211-a4b6-f05ebb740e65",
   "metadata": {},
   "outputs": [],
   "source": [
    "from IPython.display import Markdown, display"
   ]
  },
  {
   "cell_type": "code",
   "execution_count": 68,
   "id": "2a7fe5ec-cb54-4625-86b6-6fe7fb8cbcc2",
   "metadata": {},
   "outputs": [],
   "source": [
    "\n",
    "\n",
    "def display_colors(colors):\n",
    "    display(Markdown(\" \".join(\n",
    "        f\"<span style='color: {color}'>{chr(9608)}</span>\"\n",
    "        for color in colors\n",
    "    )))\n"
   ]
  },
  {
   "cell_type": "code",
   "execution_count": 73,
   "id": "52baad48-49f0-44e2-a944-421c9bcf8e0b",
   "metadata": {},
   "outputs": [
    {
     "data": {
      "text/markdown": [
       "<span style='color: #00A8C6'>█</span> <span style='color: #FFFFFF'>█</span> <span style='color: #EE0000'>█</span>"
      ],
      "text/plain": [
       "<IPython.core.display.Markdown object>"
      ]
     },
     "metadata": {},
     "output_type": "display_data"
    }
   ],
   "source": [
    "get_and_render_colors(\"italian flag\")"
   ]
  },
  {
   "cell_type": "code",
   "execution_count": null,
   "id": "7f555392-9a4f-4770-9a4d-20c467ded43c",
   "metadata": {},
   "outputs": [],
   "source": []
  }
 ],
 "metadata": {
  "kernelspec": {
   "display_name": "Python 3 (ipykernel)",
   "language": "python",
   "name": "python3"
  },
  "language_info": {
   "codemirror_mode": {
    "name": "ipython",
    "version": 3
   },
   "file_extension": ".py",
   "mimetype": "text/x-python",
   "name": "python",
   "nbconvert_exporter": "python",
   "pygments_lexer": "ipython3",
   "version": "3.11.4"
  }
 },
 "nbformat": 4,
 "nbformat_minor": 5
}
